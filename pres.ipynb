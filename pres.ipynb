{
 "cells": [
  {
   "cell_type": "markdown",
   "id": "1eab17e5",
   "metadata": {
    "slideshow": {
     "slide_type": "slide"
    }
   },
   "source": [
    "# Polars: the real bear of dataframes!! 🐻‍❄️ <small>by Eran Krakovsky</small>\n",
    "\n",
    "_DataFrame library written from scratch in Rust with An in memory query engine_\n",
    "\n",
    "<div style=\"display:block;margin:0 auto;\">\n",
    "<img src=\"./polars-logo-python.svg\" style=\"display:inline;margin-left:auto;margin-right:1em;width:20%\" </img>\n",
    "<img src=\"./polars-vs-pandas.png\" style=\"display:inline;margin-left:auto;margin-right:auto;width:23%\" </img>\n",
    "</div>\n",
    "\n",
    "\n",
    "### Goals\n",
    "* Maximum runtime performance\n",
    "* Composable functional API\n",
    "\n",
    "### Topic\n",
    "\n",
    "* Polars in a nutshell\n",
    "* Expression language\n",
    "\n"
   ]
  },
  {
   "cell_type": "markdown",
   "id": "dca8dac3",
   "metadata": {
    "slideshow": {
     "slide_type": "slide"
    }
   },
   "source": [
    "## Why Polars?\n",
    "\n",
    "1. Rustlang did not have a DataFrame library\n",
    "2. Moore's law is ending\n",
    "    - response: more cores.\n",
    "    - numpy + pandas are single threaded and don't benefit from this hardware trend\n",
    "3. Decades of database development (e.g.) query optimizations are not being used in python dataframe stack.\n",
    "4. Python got its ass kicked by R datatable.\n"
   ]
  },
  {
   "cell_type": "markdown",
   "id": "21a603af",
   "metadata": {
    "slideshow": {
     "slide_type": "slide"
    }
   },
   "source": [
    "## Foundations\n",
    "\n",
    "* **Rust programming language**: memory safe programming language \n",
    "    - performance == C/C++\n",
    "    - Full control over memory / close to the metal\n",
    "    - Fearless concurrency\n",
    "\n",
    "* **Apache Arrow** as memory model\n",
    "    - The future of big data communication and columnar store\n",
    "    - Reduction of serialization/deserialization by standardizing and optimization of columnar memory.\n",
    "    - within same process, data access is free (ptr sharing)\n",
    "    \n",
    "---\n",
    "    \n",
    "<div>\n",
    "<img src=\"./arrow-logo.png\" style=\"display:inline;margin-left:auto;margin-right:1em;width:30%\" </img>\n",
    "<img src=\"rust.svg\" style=\"display:inline;margin:0 auto;width:24%\" </img>\n",
    "</div>\n",
    "\n"
   ]
  },
  {
   "cell_type": "markdown",
   "id": "75d6771b",
   "metadata": {
    "slideshow": {
     "slide_type": "slide"
    }
   },
   "source": [
    "## Polars in a nutshell: \n",
    "\n",
    "* Column oriented data storage\n",
    "    - No block manager -> predictable performance\n",
    "* Copy on write semantics`\n",
    "    - \"Free\" clones\n",
    "    - Cheap appends\n",
    "* Proper missing values: missing != `NaN`\n",
    "* Efficient algorithms writting from scratch w/ for max. perf.\n",
    "* Query optimizations\n",
    "    - Expression folding\n",
    "    - Predicate pushdown\n",
    "    - Projection pushdown\n",
    "    - Parallelization of physical plan\n",
    "* SIMD vectorization"
   ]
  },
  {
   "cell_type": "markdown",
   "id": "f57ec19e",
   "metadata": {
    "slideshow": {
     "slide_type": "slide"
    }
   },
   "source": [
    "## Polars in a nutshell: Expressions + Query optimizations\n",
    "\n",
    "* Lazy evaluation\n",
    "    - Declarative\n",
    "        - e.g. describe what you want, not how to do it\n",
    "    - More context for optimizations\n",
    "---\n",
    "\n",
    "**declarative**\n",
    "> ```\n",
    "> get me a cup of coffee.\n",
    "> ```\n",
    "\n",
    "**procedural**\n",
    "> ```\n",
    "> take 5 steps of 75cm\n",
    "> turn 90 degrees\n",
    "> take 3 steps of 75cm\n",
    "> take 1 step of 23cm\n",
    "> turn 45 degrees\n",
    "> lift your hand\n",
    "> ...\n",
    "> ...\n",
    "> lower the coffee cup on the table\n",
    "> ```\n",
    "\n",
    "The latter has less room for optimization"
   ]
  },
  {
   "cell_type": "markdown",
   "id": "bd2c2b6d",
   "metadata": {
    "slideshow": {
     "slide_type": "slide"
    }
   },
   "source": [
    "## Polars in a nutshell: Blazingly fast 🚀🚀\n",
    "\n",
    "source: https://www.pola.rs/benchmarks.html\n",
    "### TPCH Benchmark\n",
    "#### Results including reading parquet (lower is better)\n",
    "<div>\n",
    "<img src=\"https://raw.githubusercontent.com/pola-rs/polars-static/master/benchmarks/tpch/sf_10_and_io.png\" width=100%>\n",
    "</div>\n",
    "\n",
    "#### Results starting from in-memory data (lower is better)\n",
    "<div>\n",
    "<img src=\"https://raw.githubusercontent.com/pola-rs/polars-static/master/benchmarks/tpch/sf_10.png\" width=100%>\n",
    "</div>\n",
    "\n"
   ]
  },
  {
   "cell_type": "markdown",
   "id": "a0bab3a8",
   "metadata": {
    "slideshow": {
     "slide_type": "slide"
    }
   },
   "source": [
    "## Polars in a nutshell: Blazingly fast 🚀🚀\n",
    "\n",
    "source: https://h2oai.github.io/db-benchmark/\n",
    "\n",
    "<div>\n",
    "<img src=\"./db-benchmark.png\" width=700>\n",
    "</div>"
   ]
  },
  {
   "cell_type": "markdown",
   "id": "5cbabbb0",
   "metadata": {
    "slideshow": {
     "slide_type": "slide"
    }
   },
   "source": [
    "## Compared to Pandas\n",
    "\n",
    "**performance**\n",
    "\n",
    "* 5-20x runtime improvement\n",
    "\n",
    "**memory requirements**\n",
    "* pandas: ~10x dataset size\n",
    "* polars: ~2-4x dataset size\n"
   ]
  },
  {
   "cell_type": "code",
   "execution_count": 1,
   "id": "d47d4938",
   "metadata": {
    "slideshow": {
     "slide_type": "slide"
    }
   },
   "outputs": [
    {
     "data": {
      "text/html": [
       "<div><style>\n",
       ".dataframe > thead > tr > th,\n",
       ".dataframe > tbody > tr > td {\n",
       "  text-align: right;\n",
       "}\n",
       "</style>\n",
       "<small>shape: (5, 5)</small><table border=\"1\" class=\"dataframe\"><thead><tr><th>A</th><th>fruits</th><th>B</th><th>cars</th><th>optional</th></tr><tr><td>i64</td><td>str</td><td>i64</td><td>str</td><td>i64</td></tr></thead><tbody><tr><td>1</td><td>&quot;banana&quot;</td><td>5</td><td>&quot;beetle&quot;</td><td>28</td></tr><tr><td>2</td><td>&quot;banana&quot;</td><td>4</td><td>&quot;audi&quot;</td><td>300</td></tr><tr><td>3</td><td>&quot;apple&quot;</td><td>3</td><td>&quot;beetle&quot;</td><td>null</td></tr><tr><td>4</td><td>&quot;apple&quot;</td><td>2</td><td>&quot;beetle&quot;</td><td>2</td></tr><tr><td>5</td><td>&quot;banana&quot;</td><td>1</td><td>&quot;beetle&quot;</td><td>-30</td></tr></tbody></table></div>"
      ],
      "text/plain": [
       "shape: (5, 5)\n",
       "┌─────┬────────┬─────┬────────┬──────────┐\n",
       "│ A   ┆ fruits ┆ B   ┆ cars   ┆ optional │\n",
       "│ --- ┆ ---    ┆ --- ┆ ---    ┆ ---      │\n",
       "│ i64 ┆ str    ┆ i64 ┆ str    ┆ i64      │\n",
       "╞═════╪════════╪═════╪════════╪══════════╡\n",
       "│ 1   ┆ banana ┆ 5   ┆ beetle ┆ 28       │\n",
       "│ 2   ┆ banana ┆ 4   ┆ audi   ┆ 300      │\n",
       "│ 3   ┆ apple  ┆ 3   ┆ beetle ┆ null     │\n",
       "│ 4   ┆ apple  ┆ 2   ┆ beetle ┆ 2        │\n",
       "│ 5   ┆ banana ┆ 1   ┆ beetle ┆ -30      │\n",
       "└─────┴────────┴─────┴────────┴──────────┘"
      ]
     },
     "execution_count": 1,
     "metadata": {},
     "output_type": "execute_result"
    }
   ],
   "source": [
    "import polars as pl\n",
    "from polars import col, lit\n",
    "import numpy as np\n",
    "import pandas as pd\n",
    "\n",
    "df = pl.DataFrame(\n",
    "    {\n",
    "        \"A\": [1, 2, 3, 4, 5],\n",
    "        \"fruits\": [\"banana\", \"banana\", \"apple\", \"apple\", \"banana\"],\n",
    "        \"B\": [5, 4, 3, 2, 1],\n",
    "        \"cars\": [\"beetle\", \"audi\", \"beetle\", \"beetle\", \"beetle\"],\n",
    "        \"optional\": [28, 300, None, 2, -30],\n",
    "    }\n",
    ")\n",
    "df"
   ]
  },
  {
   "cell_type": "markdown",
   "id": "c8ed58a4",
   "metadata": {
    "slideshow": {
     "slide_type": "slide"
    }
   },
   "source": [
    "## Pandas like Selection\n",
    "* You can select colomns like in Pandas\n",
    "* No indecies so selection of rows is done like pandas `iloc`"
   ]
  },
  {
   "cell_type": "code",
   "execution_count": 2,
   "id": "b46434f5",
   "metadata": {
    "slideshow": {
     "slide_type": "-"
    }
   },
   "outputs": [
    {
     "data": {
      "text/html": [
       "<div><style>\n",
       ".dataframe > thead > tr > th,\n",
       ".dataframe > tbody > tr > td {\n",
       "  text-align: right;\n",
       "}\n",
       "</style>\n",
       "<small>shape: (3, 3)</small><table border=\"1\" class=\"dataframe\"><thead><tr><th>A</th><th>B</th><th>cars</th></tr><tr><td>i64</td><td>i64</td><td>str</td></tr></thead><tbody><tr><td>3</td><td>3</td><td>&quot;beetle&quot;</td></tr><tr><td>4</td><td>2</td><td>&quot;beetle&quot;</td></tr><tr><td>5</td><td>1</td><td>&quot;beetle&quot;</td></tr></tbody></table></div>"
      ],
      "text/plain": [
       "shape: (3, 3)\n",
       "┌─────┬─────┬────────┐\n",
       "│ A   ┆ B   ┆ cars   │\n",
       "│ --- ┆ --- ┆ ---    │\n",
       "│ i64 ┆ i64 ┆ str    │\n",
       "╞═════╪═════╪════════╡\n",
       "│ 3   ┆ 3   ┆ beetle │\n",
       "│ 4   ┆ 2   ┆ beetle │\n",
       "│ 5   ┆ 1   ┆ beetle │\n",
       "└─────┴─────┴────────┘"
      ]
     },
     "execution_count": 2,
     "metadata": {},
     "output_type": "execute_result"
    }
   ],
   "source": [
    "## pandas like col selection\n",
    "df[2:5,['A','B','cars']]"
   ]
  },
  {
   "cell_type": "markdown",
   "id": "649d04dd",
   "metadata": {
    "slideshow": {
     "slide_type": "slide"
    }
   },
   "source": [
    "# Expressions\n",
    "\n",
    "* `Fn(Series) -> Series`\n",
    "    - expr output is input for another expr\n",
    "    - Very composable expression language\n",
    "    - can be combined indefinitetly\n",
    "* Lazy evaluated\n",
    "    - Optimizable \n",
    "* Reduces the need for custom (slow) python functions\n",
    "* Embarrassingly parallel\n",
    "\n",
    "\n",
    "---\n",
    "    \n",
    "They work differently depending on the context.\n",
    "\n",
    "**Contexts**\n",
    "* Selection\n",
    "* Groupby\n",
    "\n",
    "```python\n",
    "# sum the column \"foo\"\n",
    "df.select(pl.sum(\"foo\"))\n",
    "\n",
    "# sum values of \"foo\" grouped by \"bar\"\n",
    "df.groupby(\"bar\").agg(pl.sum(\"foo\"))\n",
    "```\n"
   ]
  },
  {
   "cell_type": "markdown",
   "id": "950bcd6c",
   "metadata": {
    "slideshow": {
     "slide_type": "slide"
    }
   },
   "source": [
    "## Selection context\n",
    "\n",
    "* You can selection any value from a DataFrame.\n",
    "* The data flowing through the expressions are columns in the `DataFrame`\n",
    "* Every expression is evaluated in parallel.\n",
    "\n"
   ]
  },
  {
   "cell_type": "code",
   "execution_count": 3,
   "id": "0b962189",
   "metadata": {
    "slideshow": {
     "slide_type": "slide"
    }
   },
   "outputs": [
    {
     "data": {
      "text/html": [
       "<div><style>\n",
       ".dataframe > thead > tr > th,\n",
       ".dataframe > tbody > tr > td {\n",
       "  text-align: right;\n",
       "}\n",
       "</style>\n",
       "<small>shape: (5, 2)</small><table border=\"1\" class=\"dataframe\"><thead><tr><th>A</th><th>A_reverse</th></tr><tr><td>i64</td><td>i64</td></tr></thead><tbody><tr><td>1</td><td>5</td></tr><tr><td>2</td><td>4</td></tr><tr><td>3</td><td>3</td></tr><tr><td>4</td><td>2</td></tr><tr><td>5</td><td>1</td></tr></tbody></table></div>"
      ],
      "text/plain": [
       "shape: (5, 2)\n",
       "┌─────┬───────────┐\n",
       "│ A   ┆ A_reverse │\n",
       "│ --- ┆ ---       │\n",
       "│ i64 ┆ i64       │\n",
       "╞═════╪═══════════╡\n",
       "│ 1   ┆ 5         │\n",
       "│ 2   ┆ 4         │\n",
       "│ 3   ┆ 3         │\n",
       "│ 4   ┆ 2         │\n",
       "│ 5   ┆ 1         │\n",
       "└─────┴───────────┘"
      ]
     },
     "execution_count": 3,
     "metadata": {},
     "output_type": "execute_result"
    }
   ],
   "source": [
    "# let's start simple\n",
    "\n",
    "df.select([\n",
    "    col(\"A\"),                                      # select column \"A\" (syntactix sugar for `col(\"A\")`)\n",
    "    col(\"A\").reverse().suffix(\"_reverse\"),        # select column \"A\" -> reverse -> rename to \"A_reverse\"\n",
    "])"
   ]
  },
  {
   "cell_type": "code",
   "execution_count": 4,
   "id": "b99b7094",
   "metadata": {
    "scrolled": true,
    "slideshow": {
     "slide_type": "slide"
    }
   },
   "outputs": [
    {
     "data": {
      "text/html": [
       "<div><style>\n",
       ".dataframe > thead > tr > th,\n",
       ".dataframe > tbody > tr > td {\n",
       "  text-align: right;\n",
       "}\n",
       "</style>\n",
       "<small>shape: (5, 7)</small><table border=\"1\" class=\"dataframe\"><thead><tr><th>A</th><th>cars</th><th>A_reverse</th><th>fruits_reverse</th><th>B_reverse</th><th>cars_reverse</th><th>optional_reverse</th></tr><tr><td>i64</td><td>str</td><td>i64</td><td>str</td><td>i64</td><td>str</td><td>i64</td></tr></thead><tbody><tr><td>1</td><td>&quot;beetle&quot;</td><td>5</td><td>&quot;banana&quot;</td><td>1</td><td>&quot;beetle&quot;</td><td>-30</td></tr><tr><td>2</td><td>&quot;audi&quot;</td><td>4</td><td>&quot;apple&quot;</td><td>2</td><td>&quot;beetle&quot;</td><td>2</td></tr><tr><td>3</td><td>&quot;beetle&quot;</td><td>3</td><td>&quot;apple&quot;</td><td>3</td><td>&quot;beetle&quot;</td><td>null</td></tr><tr><td>4</td><td>&quot;beetle&quot;</td><td>2</td><td>&quot;banana&quot;</td><td>4</td><td>&quot;audi&quot;</td><td>300</td></tr><tr><td>5</td><td>&quot;beetle&quot;</td><td>1</td><td>&quot;banana&quot;</td><td>5</td><td>&quot;beetle&quot;</td><td>28</td></tr></tbody></table></div>"
      ],
      "text/plain": [
       "shape: (5, 7)\n",
       "┌─────┬────────┬───────────┬────────────────┬───────────┬──────────────┬──────────────────┐\n",
       "│ A   ┆ cars   ┆ A_reverse ┆ fruits_reverse ┆ B_reverse ┆ cars_reverse ┆ optional_reverse │\n",
       "│ --- ┆ ---    ┆ ---       ┆ ---            ┆ ---       ┆ ---          ┆ ---              │\n",
       "│ i64 ┆ str    ┆ i64       ┆ str            ┆ i64       ┆ str          ┆ i64              │\n",
       "╞═════╪════════╪═══════════╪════════════════╪═══════════╪══════════════╪══════════════════╡\n",
       "│ 1   ┆ beetle ┆ 5         ┆ banana         ┆ 1         ┆ beetle       ┆ -30              │\n",
       "│ 2   ┆ audi   ┆ 4         ┆ apple          ┆ 2         ┆ beetle       ┆ 2                │\n",
       "│ 3   ┆ beetle ┆ 3         ┆ apple          ┆ 3         ┆ beetle       ┆ null             │\n",
       "│ 4   ┆ beetle ┆ 2         ┆ banana         ┆ 4         ┆ audi         ┆ 300              │\n",
       "│ 5   ┆ beetle ┆ 1         ┆ banana         ┆ 5         ┆ beetle       ┆ 28               │\n",
       "└─────┴────────┴───────────┴────────────────┴───────────┴──────────────┴──────────────────┘"
      ]
     },
     "execution_count": 4,
     "metadata": {},
     "output_type": "execute_result"
    }
   ],
   "source": [
    "# We select everything in normal order\n",
    "# Then we select everything in reversed order\n",
    "(df.select([\n",
    "    pl.col(\"A\"),\n",
    "    pl.col(\"cars\"),# we can also exclude/use regexes\n",
    "    pl.all().reverse().suffix(\"_reverse\")\n",
    "]))"
   ]
  },
  {
   "cell_type": "code",
   "execution_count": 5,
   "id": "b39c41b7",
   "metadata": {
    "scrolled": true,
    "slideshow": {
     "slide_type": "slide"
    }
   },
   "outputs": [
    {
     "data": {
      "text/html": [
       "<div><style>\n",
       ".dataframe > thead > tr > th,\n",
       ".dataframe > tbody > tr > td {\n",
       "  text-align: right;\n",
       "}\n",
       "</style>\n",
       "<small>shape: (1, 10)</small><table border=\"1\" class=\"dataframe\"><thead><tr><th>A_sum</th><th>fruits_sum</th><th>B_sum</th><th>cars_sum</th><th>optional_sum</th><th>A_min</th><th>fruits_min</th><th>B_min</th><th>cars_min</th><th>optional_min</th></tr><tr><td>i64</td><td>str</td><td>i64</td><td>str</td><td>i64</td><td>i64</td><td>str</td><td>i64</td><td>str</td><td>i64</td></tr></thead><tbody><tr><td>15</td><td>null</td><td>15</td><td>null</td><td>300</td><td>1</td><td>&quot;apple&quot;</td><td>1</td><td>&quot;audi&quot;</td><td>-30</td></tr></tbody></table></div>"
      ],
      "text/plain": [
       "shape: (1, 10)\n",
       "┌───────┬────────────┬───────┬──────────┬───┬────────────┬───────┬──────────┬──────────────┐\n",
       "│ A_sum ┆ fruits_sum ┆ B_sum ┆ cars_sum ┆ … ┆ fruits_min ┆ B_min ┆ cars_min ┆ optional_min │\n",
       "│ ---   ┆ ---        ┆ ---   ┆ ---      ┆   ┆ ---        ┆ ---   ┆ ---      ┆ ---          │\n",
       "│ i64   ┆ str        ┆ i64   ┆ str      ┆   ┆ str        ┆ i64   ┆ str      ┆ i64          │\n",
       "╞═══════╪════════════╪═══════╪══════════╪═══╪════════════╪═══════╪══════════╪══════════════╡\n",
       "│ 15    ┆ null       ┆ 15    ┆ null     ┆ … ┆ apple      ┆ 1     ┆ audi     ┆ -30          │\n",
       "└───────┴────────────┴───────┴──────────┴───┴────────────┴───────┴──────────┴──────────────┘"
      ]
     },
     "execution_count": 5,
     "metadata": {},
     "output_type": "execute_result"
    }
   ],
   "source": [
    "# We can also do aggregations\n",
    "(df.select([\n",
    "    pl.all().sum().suffix(\"_sum\"),   # select all columns -> compute the sum -> add \"_sum\" to name\n",
    "    pl.all().min().suffix(\"_min\")    # select all columns -> compute the min -> add \"_min\" to name\n",
    "]))"
   ]
  },
  {
   "cell_type": "code",
   "execution_count": 6,
   "id": "f1c798b9",
   "metadata": {
    "scrolled": true,
    "slideshow": {
     "slide_type": "slide"
    }
   },
   "outputs": [
    {
     "data": {
      "text/html": [
       "<div><style>\n",
       ".dataframe > thead > tr > th,\n",
       ".dataframe > tbody > tr > td {\n",
       "  text-align: right;\n",
       "}\n",
       "</style>\n",
       "<small>shape: (5, 2)</small><table border=\"1\" class=\"dataframe\"><thead><tr><th>rank_A</th><th>A_std</th></tr><tr><td>f32</td><td>f64</td></tr></thead><tbody><tr><td>1.0</td><td>1.581139</td></tr><tr><td>2.0</td><td>1.581139</td></tr><tr><td>3.0</td><td>1.581139</td></tr><tr><td>4.0</td><td>1.581139</td></tr><tr><td>5.0</td><td>1.581139</td></tr></tbody></table></div>"
      ],
      "text/plain": [
       "shape: (5, 2)\n",
       "┌────────┬──────────┐\n",
       "│ rank_A ┆ A_std    │\n",
       "│ ---    ┆ ---      │\n",
       "│ f32    ┆ f64      │\n",
       "╞════════╪══════════╡\n",
       "│ 1.0    ┆ 1.581139 │\n",
       "│ 2.0    ┆ 1.581139 │\n",
       "│ 3.0    ┆ 1.581139 │\n",
       "│ 4.0    ┆ 1.581139 │\n",
       "│ 5.0    ┆ 1.581139 │\n",
       "└────────┴──────────┘"
      ]
     },
     "execution_count": 6,
     "metadata": {},
     "output_type": "execute_result"
    }
   ],
   "source": [
    "# Aggregation and normal projections can be combined\n",
    "(df.select([\n",
    "    col(\"A\").rank().alias(\"rank_A\"),   # select column \"A\" -> compute the rank -> rename to \"rank_A\"\n",
    "    col(\"A\").std().alias(\"A_std\")      # select column \"A\" columns -> compute the std-dev -> rename to \"A_std\"\n",
    "]))"
   ]
  },
  {
   "cell_type": "markdown",
   "id": "da07fc0b",
   "metadata": {
    "slideshow": {
     "slide_type": "slide"
    }
   },
   "source": [
    "## More on selecting columns\n",
    "\n",
    "We can also select multiple columns by:\n",
    "    \n",
    "* regex: `col(\"^A.*$\")`\n",
    "* exclude columns: `pl.all().exclude(\"fruits\")`\n",
    "* dtypes: `col(pl.Utf8)`"
   ]
  },
  {
   "cell_type": "markdown",
   "id": "fc0c8e81",
   "metadata": {
    "slideshow": {
     "slide_type": "slide"
    }
   },
   "source": [
    "## Filtering"
   ]
  },
  {
   "cell_type": "code",
   "execution_count": 7,
   "id": "f7eddd8a",
   "metadata": {
    "slideshow": {
     "slide_type": "slide"
    }
   },
   "outputs": [
    {
     "data": {
      "text/html": [
       "<div><style>\n",
       ".dataframe > thead > tr > th,\n",
       ".dataframe > tbody > tr > td {\n",
       "  text-align: right;\n",
       "}\n",
       "</style>\n",
       "<small>shape: (3, 5)</small><table border=\"1\" class=\"dataframe\"><thead><tr><th>A</th><th>fruits</th><th>B</th><th>cars</th><th>optional</th></tr><tr><td>i64</td><td>str</td><td>i64</td><td>str</td><td>i64</td></tr></thead><tbody><tr><td>1</td><td>&quot;banana&quot;</td><td>5</td><td>&quot;beetle&quot;</td><td>28</td></tr><tr><td>2</td><td>&quot;banana&quot;</td><td>4</td><td>&quot;audi&quot;</td><td>300</td></tr><tr><td>5</td><td>&quot;banana&quot;</td><td>1</td><td>&quot;beetle&quot;</td><td>-30</td></tr></tbody></table></div>"
      ],
      "text/plain": [
       "shape: (3, 5)\n",
       "┌─────┬────────┬─────┬────────┬──────────┐\n",
       "│ A   ┆ fruits ┆ B   ┆ cars   ┆ optional │\n",
       "│ --- ┆ ---    ┆ --- ┆ ---    ┆ ---      │\n",
       "│ i64 ┆ str    ┆ i64 ┆ str    ┆ i64      │\n",
       "╞═════╪════════╪═════╪════════╪══════════╡\n",
       "│ 1   ┆ banana ┆ 5   ┆ beetle ┆ 28       │\n",
       "│ 2   ┆ banana ┆ 4   ┆ audi   ┆ 300      │\n",
       "│ 5   ┆ banana ┆ 1   ┆ beetle ┆ -30      │\n",
       "└─────┴────────┴─────┴────────┴──────────┘"
      ]
     },
     "execution_count": 7,
     "metadata": {},
     "output_type": "execute_result"
    }
   ],
   "source": [
    "# we can use simple filters\n",
    "\n",
    "df.filter(col(\"fruits\") == \"banana\")"
   ]
  },
  {
   "cell_type": "code",
   "execution_count": 8,
   "id": "277e5503",
   "metadata": {},
   "outputs": [
    {
     "data": {
      "text/html": [
       "<div><style>\n",
       ".dataframe > thead > tr > th,\n",
       ".dataframe > tbody > tr > td {\n",
       "  text-align: right;\n",
       "}\n",
       "</style>\n",
       "<small>shape: (1, 2)</small><table border=\"1\" class=\"dataframe\"><thead><tr><th>n_eq_banana</th><th>sum_A_eq_banana</th></tr><tr><td>u32</td><td>i64</td></tr></thead><tbody><tr><td>3</td><td>8</td></tr></tbody></table></div>"
      ],
      "text/plain": [
       "shape: (1, 2)\n",
       "┌─────────────┬─────────────────┐\n",
       "│ n_eq_banana ┆ sum_A_eq_banana │\n",
       "│ ---         ┆ ---             │\n",
       "│ u32         ┆ i64             │\n",
       "╞═════════════╪═════════════════╡\n",
       "│ 3           ┆ 8               │\n",
       "└─────────────┴─────────────────┘"
      ]
     },
     "execution_count": 8,
     "metadata": {},
     "output_type": "execute_result"
    }
   ],
   "source": [
    "eq_banana = col(\"fruits\") == \"banana\"\n",
    "\n",
    "(df.select([\n",
    "    col(\"fruits\").filter(eq_banana).count().alias(\"n_eq_banana\"),\n",
    "    col(\"A\").filter(eq_banana).sum().alias(\"sum_A_eq_banana\"),\n",
    "]))"
   ]
  },
  {
   "cell_type": "code",
   "execution_count": 9,
   "id": "7819d217",
   "metadata": {
    "slideshow": {
     "slide_type": "slide"
    }
   },
   "outputs": [
    {
     "data": {
      "text/html": [
       "<div><style>\n",
       ".dataframe > thead > tr > th,\n",
       ".dataframe > tbody > tr > td {\n",
       "  text-align: right;\n",
       "}\n",
       "</style>\n",
       "<small>shape: (5, 8)</small><table border=\"1\" class=\"dataframe\"><thead><tr><th>A</th><th>B</th><th>fruits</th><th>C</th><th>A_mean</th><th>sum_a_gt_1</th><th>sum_a=banana</th><th>arithmetic_result</th></tr><tr><td>i64</td><td>i64</td><td>str</td><td>i64</td><td>f64</td><td>i64</td><td>i64</td><td>f64</td></tr></thead><tbody><tr><td>1</td><td>5</td><td>&quot;banana&quot;</td><td>6</td><td>3.0</td><td>6</td><td>10</td><td>11014.732897</td></tr><tr><td>2</td><td>4</td><td>&quot;banana&quot;</td><td>6</td><td>3.0</td><td>6</td><td>10</td><td>1491.978994</td></tr><tr><td>3</td><td>3</td><td>&quot;apple&quot;</td><td>6</td><td>3.0</td><td>6</td><td>10</td><td>203.214397</td></tr><tr><td>4</td><td>2</td><td>&quot;apple&quot;</td><td>6</td><td>3.0</td><td>6</td><td>10</td><td>28.799075</td></tr><tr><td>5</td><td>1</td><td>&quot;banana&quot;</td><td>6</td><td>3.0</td><td>6</td><td>10</td><td>5.194528</td></tr></tbody></table></div>"
      ],
      "text/plain": [
       "shape: (5, 8)\n",
       "┌─────┬─────┬────────┬─────┬────────┬────────────┬──────────────┬───────────────────┐\n",
       "│ A   ┆ B   ┆ fruits ┆ C   ┆ A_mean ┆ sum_a_gt_1 ┆ sum_a=banana ┆ arithmetic_result │\n",
       "│ --- ┆ --- ┆ ---    ┆ --- ┆ ---    ┆ ---        ┆ ---          ┆ ---               │\n",
       "│ i64 ┆ i64 ┆ str    ┆ i64 ┆ f64    ┆ i64        ┆ i64          ┆ f64               │\n",
       "╞═════╪═════╪════════╪═════╪════════╪════════════╪══════════════╪═══════════════════╡\n",
       "│ 1   ┆ 5   ┆ banana ┆ 6   ┆ 3.0    ┆ 6          ┆ 10           ┆ 11014.732897      │\n",
       "│ 2   ┆ 4   ┆ banana ┆ 6   ┆ 3.0    ┆ 6          ┆ 10           ┆ 1491.978994       │\n",
       "│ 3   ┆ 3   ┆ apple  ┆ 6   ┆ 3.0    ┆ 6          ┆ 10           ┆ 203.214397        │\n",
       "│ 4   ┆ 2   ┆ apple  ┆ 6   ┆ 3.0    ┆ 6          ┆ 10           ┆ 28.799075         │\n",
       "│ 5   ┆ 1   ┆ banana ┆ 6   ┆ 3.0    ┆ 6          ┆ 10           ┆ 5.194528          │\n",
       "└─────┴─────┴────────┴─────┴────────┴────────────┴──────────────┴───────────────────┘"
      ]
     },
     "execution_count": 9,
     "metadata": {},
     "output_type": "execute_result"
    }
   ],
   "source": [
    "# we can combine aggregations, filters, arithmetic and projection\n",
    "df.select([\n",
    "    \"A\",\n",
    "    \"B\",\n",
    "    \"fruits\",\n",
    "    (col(\"A\") + col(\"B\")).alias(\"C\"),\n",
    "    col(\"A\").mean().alias(\"A_mean\"),\n",
    "    col(\"B\").filter(col(\"A\") > 2).sum().alias(\"sum_a_gt_1\"),\n",
    "    col(\"B\").filter(col(\"fruits\") == \"banana\").sum().alias(\"sum_a=banana\"),\n",
    "    ((np.exp(col(\"B\")) ** 2 + col(\"A\").mean()) / 2).alias('arithmetic_result')\n",
    "])"
   ]
  },
  {
   "cell_type": "code",
   "execution_count": 10,
   "id": "6e286c3d",
   "metadata": {
    "slideshow": {
     "slide_type": "slide"
    }
   },
   "outputs": [
    {
     "name": "stdout",
     "output_type": "stream",
     "text": [
      "   A  fruits  B    cars  optional  new\n",
      "0  1  banana  5  beetle      28.0    5\n",
      "1  2  banana  4    audi     300.0    4\n",
      "2  3   apple  3  beetle       NaN   -1\n",
      "3  4   apple  2  beetle       2.0   -1\n",
      "4  5  banana  1  beetle     -30.0    1\n"
     ]
    },
    {
     "data": {
      "text/html": [
       "<div><style>\n",
       ".dataframe > thead > tr > th,\n",
       ".dataframe > tbody > tr > td {\n",
       "  text-align: right;\n",
       "}\n",
       "</style>\n",
       "<small>shape: (5, 6)</small><table border=\"1\" class=\"dataframe\"><thead><tr><th>A</th><th>fruits</th><th>B</th><th>cars</th><th>optional</th><th>new</th></tr><tr><td>i64</td><td>str</td><td>i64</td><td>str</td><td>i64</td><td>i64</td></tr></thead><tbody><tr><td>1</td><td>&quot;banana&quot;</td><td>5</td><td>&quot;beetle&quot;</td><td>28</td><td>5</td></tr><tr><td>2</td><td>&quot;banana&quot;</td><td>4</td><td>&quot;audi&quot;</td><td>300</td><td>4</td></tr><tr><td>3</td><td>&quot;apple&quot;</td><td>3</td><td>&quot;beetle&quot;</td><td>null</td><td>-1</td></tr><tr><td>4</td><td>&quot;apple&quot;</td><td>2</td><td>&quot;beetle&quot;</td><td>2</td><td>-1</td></tr><tr><td>5</td><td>&quot;banana&quot;</td><td>1</td><td>&quot;beetle&quot;</td><td>-30</td><td>1</td></tr></tbody></table></div>"
      ],
      "text/plain": [
       "shape: (5, 6)\n",
       "┌─────┬────────┬─────┬────────┬──────────┬─────┐\n",
       "│ A   ┆ fruits ┆ B   ┆ cars   ┆ optional ┆ new │\n",
       "│ --- ┆ ---    ┆ --- ┆ ---    ┆ ---      ┆ --- │\n",
       "│ i64 ┆ str    ┆ i64 ┆ str    ┆ i64      ┆ i64 │\n",
       "╞═════╪════════╪═════╪════════╪══════════╪═════╡\n",
       "│ 1   ┆ banana ┆ 5   ┆ beetle ┆ 28       ┆ 5   │\n",
       "│ 2   ┆ banana ┆ 4   ┆ audi   ┆ 300      ┆ 4   │\n",
       "│ 3   ┆ apple  ┆ 3   ┆ beetle ┆ null     ┆ -1  │\n",
       "│ 4   ┆ apple  ┆ 2   ┆ beetle ┆ 2        ┆ -1  │\n",
       "│ 5   ┆ banana ┆ 1   ┆ beetle ┆ -30      ┆ 1   │\n",
       "└─────┴────────┴─────┴────────┴──────────┴─────┘"
      ]
     },
     "execution_count": 10,
     "metadata": {},
     "output_type": "execute_result"
    }
   ],
   "source": [
    "# we can combine columns by a predicate\n",
    "\n",
    "# pandas\n",
    "df_pd = df.to_pandas()\n",
    "df_pd[\"new\"] = df_pd[\"B\"]\n",
    "df_pd.loc[df_pd[\"fruits\"] != \"banana\",\"new\"] = -1\n",
    "print(df_pd)\n",
    "\n",
    "# polars\n",
    "df.with_columns(\n",
    "    # similar to an if-else-expr\n",
    "    pl.when(col(\"fruits\") == \"banana\").then(col(\"B\")).otherwise(-1).alias(\"new\")\n",
    ")"
   ]
  },
  {
   "cell_type": "code",
   "execution_count": 11,
   "id": "b15b0dce",
   "metadata": {
    "slideshow": {
     "slide_type": "slide"
    }
   },
   "outputs": [
    {
     "data": {
      "text/html": [
       "<div><style>\n",
       ".dataframe > thead > tr > th,\n",
       ".dataframe > tbody > tr > td {\n",
       "  text-align: right;\n",
       "}\n",
       "</style>\n",
       "<small>shape: (5, 6)</small><table border=\"1\" class=\"dataframe\"><thead><tr><th>A</th><th>fruits</th><th>B</th><th>cars</th><th>optional</th><th>new</th></tr><tr><td>i64</td><td>str</td><td>i64</td><td>str</td><td>i64</td><td>i64</td></tr></thead><tbody><tr><td>1</td><td>&quot;banana&quot;</td><td>5</td><td>&quot;beetle&quot;</td><td>28</td><td>5</td></tr><tr><td>2</td><td>&quot;banana&quot;</td><td>4</td><td>&quot;audi&quot;</td><td>300</td><td>4</td></tr><tr><td>3</td><td>&quot;apple&quot;</td><td>3</td><td>&quot;beetle&quot;</td><td>null</td><td>12</td></tr><tr><td>4</td><td>&quot;apple&quot;</td><td>2</td><td>&quot;beetle&quot;</td><td>2</td><td>12</td></tr><tr><td>5</td><td>&quot;banana&quot;</td><td>1</td><td>&quot;beetle&quot;</td><td>-30</td><td>1</td></tr></tbody></table></div>"
      ],
      "text/plain": [
       "shape: (5, 6)\n",
       "┌─────┬────────┬─────┬────────┬──────────┬─────┐\n",
       "│ A   ┆ fruits ┆ B   ┆ cars   ┆ optional ┆ new │\n",
       "│ --- ┆ ---    ┆ --- ┆ ---    ┆ ---      ┆ --- │\n",
       "│ i64 ┆ str    ┆ i64 ┆ str    ┆ i64      ┆ i64 │\n",
       "╞═════╪════════╪═════╪════════╪══════════╪═════╡\n",
       "│ 1   ┆ banana ┆ 5   ┆ beetle ┆ 28       ┆ 5   │\n",
       "│ 2   ┆ banana ┆ 4   ┆ audi   ┆ 300      ┆ 4   │\n",
       "│ 3   ┆ apple  ┆ 3   ┆ beetle ┆ null     ┆ 12  │\n",
       "│ 4   ┆ apple  ┆ 2   ┆ beetle ┆ 2        ┆ 12  │\n",
       "│ 5   ┆ banana ┆ 1   ┆ beetle ┆ -30      ┆ 1   │\n",
       "└─────┴────────┴─────┴────────┴──────────┴─────┘"
      ]
     },
     "execution_count": 11,
     "metadata": {},
     "output_type": "execute_result"
    }
   ],
   "source": [
    "# or we could keep combining predicates\n",
    "df.with_columns(\n",
    "    pl.when(col(\"fruits\") == \"banana\")\n",
    "    .then(col(\"B\"))\n",
    "    .when(col(\"fruits\") == \"apple\")\n",
    "    .then(12)\n",
    "    .otherwise(-1).alias(\"new\")\n",
    ")"
   ]
  },
  {
   "cell_type": "markdown",
   "id": "2c465000",
   "metadata": {
    "slideshow": {
     "slide_type": "slide"
    }
   },
   "source": [
    "```python\n",
    "def pandas_some_function(df: pd.DataFrame) -> pd.DataFrame:\n",
    "    # often seen and needed to write pure functions\n",
    "    # but its very expensive\n",
    "    df = df.clone()\n",
    "    df[\"a\"] = df[\"b\"] + df[\"c\"]\n",
    "    return df\n",
    "    \n",
    "# all runs sequential\n",
    "(pandas_df\n",
    "    .pipe(pandas_some_function)\n",
    "    .pipe(pandas_some_other_function)\n",
    ")\n",
    "\n",
    "def polars_some_function() -> pl.Expr:\n",
    "    return col(\"b\") + col(\"c\").alias(\"a\")\n",
    "    \n",
    "# sequential + parallel\n",
    "(polars_df\n",
    "     .with_column(foo_fn)\n",
    "     .with_columns([bar_fn, ham_fn])  # parallel\n",
    "     .select([\n",
    "         polars_some_function(),      # parallel\n",
    "         polars_some_other_function\n",
    "         ...\n",
    "         compute_bar()\n",
    "     ])\n",
    ")\n",
    "```"
   ]
  },
  {
   "cell_type": "markdown",
   "id": "1baafe57",
   "metadata": {
    "slideshow": {
     "slide_type": "slide"
    }
   },
   "source": [
    "## Groupby context\n",
    "\n",
    "* syntax: `df.groupby(..).agg([exprs..])`\n",
    "* The data flowing through the expressions are the groups of the groupby operation\n",
    "* Every expression is evaluated in parallel."
   ]
  },
  {
   "cell_type": "code",
   "execution_count": 12,
   "id": "a52f2376",
   "metadata": {
    "slideshow": {
     "slide_type": "slide"
    }
   },
   "outputs": [
    {
     "data": {
      "text/html": [
       "<div><style>\n",
       ".dataframe > thead > tr > th,\n",
       ".dataframe > tbody > tr > td {\n",
       "  text-align: right;\n",
       "}\n",
       "</style>\n",
       "<small>shape: (2, 3)</small><table border=\"1\" class=\"dataframe\"><thead><tr><th>fruits</th><th>cars</th><th>A</th></tr><tr><td>str</td><td>list[str]</td><td>list[i64]</td></tr></thead><tbody><tr><td>&quot;banana&quot;</td><td>[&quot;beetle&quot;, &quot;audi&quot;, &quot;beetle&quot;]</td><td>[1, 2, 5]</td></tr><tr><td>&quot;apple&quot;</td><td>[&quot;beetle&quot;, &quot;beetle&quot;]</td><td>[3, 4]</td></tr></tbody></table></div>"
      ],
      "text/plain": [
       "shape: (2, 3)\n",
       "┌────────┬──────────────────────────────┬───────────┐\n",
       "│ fruits ┆ cars                         ┆ A         │\n",
       "│ ---    ┆ ---                          ┆ ---       │\n",
       "│ str    ┆ list[str]                    ┆ list[i64] │\n",
       "╞════════╪══════════════════════════════╪═══════════╡\n",
       "│ banana ┆ [\"beetle\", \"audi\", \"beetle\"] ┆ [1, 2, 5] │\n",
       "│ apple  ┆ [\"beetle\", \"beetle\"]         ┆ [3, 4]    │\n",
       "└────────┴──────────────────────────────┴───────────┘"
      ]
     },
     "execution_count": 12,
     "metadata": {},
     "output_type": "execute_result"
    }
   ],
   "source": [
    "(df.groupby(\"fruits\")\n",
    " .agg([\n",
    "     col(\"cars\"),\n",
    "     col(\"A\")\n",
    " ])\n",
    ")"
   ]
  },
  {
   "cell_type": "code",
   "execution_count": 13,
   "id": "539c731f",
   "metadata": {
    "slideshow": {
     "slide_type": "slide"
    }
   },
   "outputs": [
    {
     "data": {
      "text/html": [
       "<div><style>\n",
       ".dataframe > thead > tr > th,\n",
       ".dataframe > tbody > tr > td {\n",
       "  text-align: right;\n",
       "}\n",
       "</style>\n",
       "<small>shape: (2, 3)</small><table border=\"1\" class=\"dataframe\"><thead><tr><th>fruits</th><th>cars</th><th>beetle_count</th></tr><tr><td>str</td><td>list[str]</td><td>u32</td></tr></thead><tbody><tr><td>&quot;banana&quot;</td><td>[&quot;beetle&quot;, &quot;beetle&quot;]</td><td>2</td></tr><tr><td>&quot;apple&quot;</td><td>[&quot;beetle&quot;, &quot;beetle&quot;]</td><td>2</td></tr></tbody></table></div>"
      ],
      "text/plain": [
       "shape: (2, 3)\n",
       "┌────────┬──────────────────────┬──────────────┐\n",
       "│ fruits ┆ cars                 ┆ beetle_count │\n",
       "│ ---    ┆ ---                  ┆ ---          │\n",
       "│ str    ┆ list[str]            ┆ u32          │\n",
       "╞════════╪══════════════════════╪══════════════╡\n",
       "│ banana ┆ [\"beetle\", \"beetle\"] ┆ 2            │\n",
       "│ apple  ┆ [\"beetle\", \"beetle\"] ┆ 2            │\n",
       "└────────┴──────────────────────┴──────────────┘"
      ]
     },
     "execution_count": 13,
     "metadata": {},
     "output_type": "execute_result"
    }
   ],
   "source": [
    "(df.groupby(\"fruits\")\n",
    " .agg([\n",
    "     col(\"cars\").filter(col(\"cars\") == \"beetle\"),\n",
    "     col(\"cars\").filter(col(\"cars\") == \"beetle\").count().alias(\"beetle_count\"),\n",
    " ])\n",
    ")"
   ]
  },
  {
   "cell_type": "code",
   "execution_count": 14,
   "id": "4d6e13c4",
   "metadata": {
    "slideshow": {
     "slide_type": "slide"
    }
   },
   "outputs": [
    {
     "data": {
      "text/html": [
       "<div><style>\n",
       ".dataframe > thead > tr > th,\n",
       ".dataframe > tbody > tr > td {\n",
       "  text-align: right;\n",
       "}\n",
       "</style>\n",
       "<small>shape: (2, 3)</small><table border=\"1\" class=\"dataframe\"><thead><tr><th>fruits</th><th>rolling_min_squared</th><th>A</th></tr><tr><td>str</td><td>list[f64]</td><td>f64</td></tr></thead><tbody><tr><td>&quot;banana&quot;</td><td>[null, 4.0, 1.0]</td><td>5.0</td></tr><tr><td>&quot;apple&quot;</td><td>[null, 9.0]</td><td>9.0</td></tr></tbody></table></div>"
      ],
      "text/plain": [
       "shape: (2, 3)\n",
       "┌────────┬─────────────────────┬─────┐\n",
       "│ fruits ┆ rolling_min_squared ┆ A   │\n",
       "│ ---    ┆ ---                 ┆ --- │\n",
       "│ str    ┆ list[f64]           ┆ f64 │\n",
       "╞════════╪═════════════════════╪═════╡\n",
       "│ banana ┆ [null, 4.0, 1.0]    ┆ 5.0 │\n",
       "│ apple  ┆ [null, 9.0]         ┆ 9.0 │\n",
       "└────────┴─────────────────────┴─────┘"
      ]
     },
     "execution_count": 14,
     "metadata": {},
     "output_type": "execute_result"
    }
   ],
   "source": [
    "# Example of multiple aggregations in pandas\n",
    "# however combining aggregations seems not possible? \n",
    "\n",
    "df_pd = df.to_pandas()\n",
    "df_pd.groupby(\"fruits\").agg({\n",
    "    \"A\": [\"shift\", \"sum\"]\n",
    "})\n",
    "\n",
    "(df.groupby(\"fruits\")\n",
    "    .agg([\n",
    "        (col(\"A\").reverse().rolling_min(window_size=2) ** 2).alias(\"rolling_min_squared\"),\n",
    "        (col(\"A\").reverse().rolling_min(window_size=2) ** 2).sum(),\n",
    "    ])\n",
    ")"
   ]
  },
  {
   "cell_type": "markdown",
   "id": "e881fde6",
   "metadata": {
    "slideshow": {
     "slide_type": "slide"
    }
   },
   "source": [
    "# Window functions!\n",
    "\n",
    "* Expression with superpowers.\n",
    "* Aggregation in selection context\n",
    "* Groupby over different columns\n",
    "\n",
    "\n",
    "```python\n",
    "col(\"foo\").aggregation_expression(..).over(\"column_used_to_group\")\n",
    "\n",
    "col(\"foo\").multiple_agg_exprs(..).over(\"column_used_to_group\")\n",
    "```"
   ]
  },
  {
   "cell_type": "code",
   "execution_count": 15,
   "id": "f731bf55",
   "metadata": {
    "slideshow": {
     "slide_type": "slide"
    }
   },
   "outputs": [
    {
     "data": {
      "text/html": [
       "<div><style>\n",
       ".dataframe > thead > tr > th,\n",
       ".dataframe > tbody > tr > td {\n",
       "  text-align: right;\n",
       "}\n",
       "</style>\n",
       "<small>shape: (5, 7)</small><table border=\"1\" class=\"dataframe\"><thead><tr><th>fruits</th><th>cars</th><th>A</th><th>a_new</th><th>group_lists_by_fruits</th><th>mean_by_cars</th><th>A_ranked_by_fruits</th></tr><tr><td>str</td><td>str</td><td>i64</td><td>i64</td><td>list[i64]</td><td>f64</td><td>f32</td></tr></thead><tbody><tr><td>&quot;apple&quot;</td><td>&quot;beetle&quot;</td><td>3</td><td>6</td><td>[3, 4]</td><td>3.25</td><td>1.0</td></tr><tr><td>&quot;apple&quot;</td><td>&quot;beetle&quot;</td><td>4</td><td>8</td><td>[3, 4]</td><td>3.25</td><td>2.0</td></tr><tr><td>&quot;banana&quot;</td><td>&quot;beetle&quot;</td><td>1</td><td>2</td><td>[1, 2, 5]</td><td>3.25</td><td>1.0</td></tr><tr><td>&quot;banana&quot;</td><td>&quot;audi&quot;</td><td>2</td><td>4</td><td>[1, 2, 5]</td><td>2.0</td><td>2.0</td></tr><tr><td>&quot;banana&quot;</td><td>&quot;beetle&quot;</td><td>5</td><td>10</td><td>[1, 2, 5]</td><td>3.25</td><td>3.0</td></tr></tbody></table></div>"
      ],
      "text/plain": [
       "shape: (5, 7)\n",
       "┌────────┬────────┬─────┬───────┬───────────────────────┬──────────────┬────────────────────┐\n",
       "│ fruits ┆ cars   ┆ A   ┆ a_new ┆ group_lists_by_fruits ┆ mean_by_cars ┆ A_ranked_by_fruits │\n",
       "│ ---    ┆ ---    ┆ --- ┆ ---   ┆ ---                   ┆ ---          ┆ ---                │\n",
       "│ str    ┆ str    ┆ i64 ┆ i64   ┆ list[i64]             ┆ f64          ┆ f32                │\n",
       "╞════════╪════════╪═════╪═══════╪═══════════════════════╪══════════════╪════════════════════╡\n",
       "│ apple  ┆ beetle ┆ 3   ┆ 6     ┆ [3, 4]                ┆ 3.25         ┆ 1.0                │\n",
       "│ apple  ┆ beetle ┆ 4   ┆ 8     ┆ [3, 4]                ┆ 3.25         ┆ 2.0                │\n",
       "│ banana ┆ beetle ┆ 1   ┆ 2     ┆ [1, 2, 5]             ┆ 3.25         ┆ 1.0                │\n",
       "│ banana ┆ audi   ┆ 2   ┆ 4     ┆ [1, 2, 5]             ┆ 2.0          ┆ 2.0                │\n",
       "│ banana ┆ beetle ┆ 5   ┆ 10    ┆ [1, 2, 5]             ┆ 3.25         ┆ 3.0                │\n",
       "└────────┴────────┴─────┴───────┴───────────────────────┴──────────────┴────────────────────┘"
      ]
     },
     "execution_count": 15,
     "metadata": {},
     "output_type": "execute_result"
    }
   ],
   "source": [
    "(df.sort(\"fruits\")\n",
    " .select([\n",
    "    \"fruits\",\n",
    "    \"cars\",\n",
    "     \"A\",\n",
    "    col(\"A\").apply(lambda x: x * 2).alias(\"a_new\"),\n",
    "    col(\"A\").over(\"fruits\", mapping_strategy=\"join\").alias(\"group_lists_by_fruits\"),    \n",
    "    col(\"A\").mean().over(\"cars\").alias(\"mean_by_cars\"),\n",
    "    col(\"A\").rank().over(\"fruits\").flatten().alias(\"A_ranked_by_fruits\"),\n",
    "]))"
   ]
  },
  {
   "cell_type": "markdown",
   "id": "ec7dc739",
   "metadata": {
    "slideshow": {
     "slide_type": "slide"
    }
   },
   "source": [
    "## True lazyness"
   ]
  },
  {
   "cell_type": "code",
   "execution_count": 16,
   "id": "77f2b780",
   "metadata": {},
   "outputs": [],
   "source": [
    "df2 = pl.DataFrame({\n",
    "    \"fruits\": [\"banana\", None, \"apple\"],\n",
    "    \"cars\": [\"audi\", \"beetle\", None]\n",
    "})\n",
    "\n",
    "q = (df.lazy()\n",
    "     .sort(\"fruits\")\n",
    "     .join(df2.lazy(), on=\"fruits\")\n",
    "     .filter(col(\"B\") > 3)\n",
    "     .select([\n",
    "        \"fruits\",\n",
    "        \"cars\",\n",
    "        \"B\",\n",
    "    ])\n",
    ")"
   ]
  },
  {
   "cell_type": "code",
   "execution_count": 17,
   "id": "193befdd",
   "metadata": {},
   "outputs": [
    {
     "name": "stdout",
     "output_type": "stream",
     "text": [
      " SELECT [col(\"fruits\"), col(\"cars\"), col(\"B\")] FROM\n",
      "  FILTER [(col(\"B\")) > (3)] FROM\n",
      "  INNER JOIN:\n",
      "  LEFT PLAN ON: [col(\"fruits\")]\n",
      "    SORT BY [col(\"fruits\")]\n",
      "      DF [\"A\", \"fruits\", \"B\", \"cars\"]; PROJECT */5 COLUMNS; SELECTION: \"None\"\n",
      "  RIGHT PLAN ON: [col(\"fruits\")]\n",
      "    DF [\"fruits\", \"cars\"]; PROJECT */2 COLUMNS; SELECTION: \"None\"\n",
      "  END INNER JOIN\n"
     ]
    }
   ],
   "source": [
    "print(q.explain(optimized=False))"
   ]
  },
  {
   "cell_type": "code",
   "execution_count": 18,
   "id": "6c843644",
   "metadata": {},
   "outputs": [
    {
     "name": "stdout",
     "output_type": "stream",
     "text": [
      "FAST_PROJECT: [fruits, cars, B]\n",
      "  INNER JOIN:\n",
      "  LEFT PLAN ON: [col(\"fruits\")]\n",
      "    SORT BY [col(\"fruits\")]\n",
      "      DF [\"A\", \"fruits\", \"B\", \"cars\"]; PROJECT 3/5 COLUMNS; SELECTION: \"[(col(\\\"B\\\")) > (3)]\"\n",
      "  RIGHT PLAN ON: [col(\"fruits\")]\n",
      "    DF [\"fruits\", \"cars\"]; PROJECT 2/2 COLUMNS; SELECTION: \"None\"\n",
      "  END INNER JOIN\n"
     ]
    }
   ],
   "source": [
    "print(q.explain(optimized=True))"
   ]
  },
  {
   "cell_type": "code",
   "execution_count": 19,
   "id": "3d3ded00",
   "metadata": {},
   "outputs": [
    {
     "data": {
      "image/svg+xml": [
       "<svg xmlns=\"http://www.w3.org/2000/svg\" xmlns:xlink=\"http://www.w3.org/1999/xlink\" width=\"244pt\" height=\"397pt\" viewBox=\"0.00 0.00 243.62 396.50\">\n",
       "<g id=\"graph0\" class=\"graph\" transform=\"scale(1 1) rotate(0) translate(4 392.5)\">\n",
       "<title>polars_query</title>\n",
       "<polygon fill=\"white\" stroke=\"none\" points=\"-4,4 -4,-392.5 239.62,-392.5 239.62,4 -4,4\"/>\n",
       "<!-- π 3/6 [(0, 0)] -->\n",
       "<g id=\"node1\" class=\"node\">\n",
       "<title>π 3/6 [(0, 0)]</title>\n",
       "<polygon fill=\"none\" stroke=\"black\" points=\"163.12,-388.5 109.12,-388.5 109.12,-352.5 163.12,-352.5 163.12,-388.5\"/>\n",
       "<text text-anchor=\"middle\" x=\"136.12\" y=\"-365.45\" font-family=\"Times,serif\" font-size=\"14.00\">π 3/6</text>\n",
       "</g>\n",
       "<!-- FILTER BY (col(&quot;B&quot;)) &gt; (3) [(0, 1)] -->\n",
       "<g id=\"node2\" class=\"node\">\n",
       "<title>FILTER BY (col(&quot;B&quot;)) &gt; (3) [(0, 1)]</title>\n",
       "<polygon fill=\"none\" stroke=\"black\" points=\"223.25,-316.5 49,-316.5 49,-280.5 223.25,-280.5 223.25,-316.5\"/>\n",
       "<text text-anchor=\"middle\" x=\"136.12\" y=\"-293.45\" font-family=\"Times,serif\" font-size=\"14.00\">FILTER BY (col(&quot;B&quot;)) &gt; (3)</text>\n",
       "</g>\n",
       "<!-- π 3/6 [(0, 0)]&#45;&#45;FILTER BY (col(&quot;B&quot;)) &gt; (3) [(0, 1)] -->\n",
       "<g id=\"edge1\" class=\"edge\">\n",
       "<title>π 3/6 [(0, 0)]--FILTER BY (col(&quot;B&quot;)) &gt; (3) [(0, 1)]</title>\n",
       "<path fill=\"none\" stroke=\"black\" d=\"M136.12,-352.2C136.12,-341.35 136.12,-327.42 136.12,-316.6\"/>\n",
       "</g>\n",
       "<!-- JOIN INNER\n",
       " &#160;&#160;&#160;&#160;&#160;&#160;&#160;&#160;&#160;&#160;&#160;&#160;&#160;&#160;&#160;&#160;&#160;&#160;&#160;left [col(&quot;fruits&quot;)];\n",
       " &#160;&#160;&#160;&#160;&#160;&#160;&#160;&#160;&#160;&#160;&#160;&#160;&#160;&#160;&#160;&#160;&#160;&#160;&#160;right: [col(&quot;fruits&quot;)] [(0, 2)] -->\n",
       "<g id=\"node3\" class=\"node\">\n",
       "<title>JOIN INNER\n",
       "                    left [col(&quot;fruits&quot;)];\n",
       "                    right: [col(&quot;fruits&quot;)] [(0, 2)]</title>\n",
       "<polygon fill=\"none\" stroke=\"black\" points=\"235.62,-244.5 36.62,-244.5 36.62,-187 235.62,-187 235.62,-244.5\"/>\n",
       "<text text-anchor=\"middle\" x=\"136.12\" y=\"-227.2\" font-family=\"Times,serif\" font-size=\"14.00\">JOIN INNER</text>\n",
       "<text text-anchor=\"middle\" x=\"136.12\" y=\"-210.7\" font-family=\"Times,serif\" font-size=\"14.00\">                    left [col(&quot;fruits&quot;)];</text>\n",
       "<text text-anchor=\"middle\" x=\"136.12\" y=\"-194.2\" font-family=\"Times,serif\" font-size=\"14.00\">                    right: [col(&quot;fruits&quot;)]</text>\n",
       "</g>\n",
       "<!-- FILTER BY (col(&quot;B&quot;)) &gt; (3) [(0, 1)]&#45;&#45;JOIN INNER\n",
       " &#160;&#160;&#160;&#160;&#160;&#160;&#160;&#160;&#160;&#160;&#160;&#160;&#160;&#160;&#160;&#160;&#160;&#160;&#160;left [col(&quot;fruits&quot;)];\n",
       " &#160;&#160;&#160;&#160;&#160;&#160;&#160;&#160;&#160;&#160;&#160;&#160;&#160;&#160;&#160;&#160;&#160;&#160;&#160;right: [col(&quot;fruits&quot;)] [(0, 2)] -->\n",
       "<g id=\"edge2\" class=\"edge\">\n",
       "<title>FILTER BY (col(&quot;B&quot;)) &gt; (3) [(0, 1)]--JOIN INNER\n",
       "                    left [col(&quot;fruits&quot;)];\n",
       "                    right: [col(&quot;fruits&quot;)] [(0, 2)]</title>\n",
       "<path fill=\"none\" stroke=\"black\" d=\"M136.12,-280.38C136.12,-270.1 136.12,-256.77 136.12,-244.97\"/>\n",
       "</g>\n",
       "<!-- SORT BY [col(&quot;fruits&quot;)] [(100, 3)] -->\n",
       "<g id=\"node4\" class=\"node\">\n",
       "<title>SORT BY [col(&quot;fruits&quot;)] [(100, 3)]</title>\n",
       "<polygon fill=\"none\" stroke=\"black\" points=\"150.25,-140.25 0,-140.25 0,-104.25 150.25,-104.25 150.25,-140.25\"/>\n",
       "<text text-anchor=\"middle\" x=\"75.12\" y=\"-117.2\" font-family=\"Times,serif\" font-size=\"14.00\">SORT BY [col(&quot;fruits&quot;)]</text>\n",
       "</g>\n",
       "<!-- JOIN INNER\n",
       " &#160;&#160;&#160;&#160;&#160;&#160;&#160;&#160;&#160;&#160;&#160;&#160;&#160;&#160;&#160;&#160;&#160;&#160;&#160;left [col(&quot;fruits&quot;)];\n",
       " &#160;&#160;&#160;&#160;&#160;&#160;&#160;&#160;&#160;&#160;&#160;&#160;&#160;&#160;&#160;&#160;&#160;&#160;&#160;right: [col(&quot;fruits&quot;)] [(0, 2)]&#45;&#45;SORT BY [col(&quot;fruits&quot;)] [(100, 3)] -->\n",
       "<g id=\"edge3\" class=\"edge\">\n",
       "<title>JOIN INNER\n",
       "                    left [col(&quot;fruits&quot;)];\n",
       "                    right: [col(&quot;fruits&quot;)] [(0, 2)]--SORT BY [col(&quot;fruits&quot;)] [(100, 3)]</title>\n",
       "<path fill=\"none\" stroke=\"black\" d=\"M117.49,-186.8C107.47,-171.77 95.43,-153.7 86.74,-140.68\"/>\n",
       "</g>\n",
       "<!-- TABLE\n",
       "π */2;\n",
       "σ &#45;; [(200, 3)] -->\n",
       "<g id=\"node6\" class=\"node\">\n",
       "<title>TABLE\n",
       "π */2;\n",
       "σ -; [(200, 3)]</title>\n",
       "<polygon fill=\"none\" stroke=\"black\" points=\"227.88,-151 168.38,-151 168.38,-93.5 227.88,-93.5 227.88,-151\"/>\n",
       "<text text-anchor=\"middle\" x=\"198.12\" y=\"-133.7\" font-family=\"Times,serif\" font-size=\"14.00\">TABLE</text>\n",
       "<text text-anchor=\"middle\" x=\"198.12\" y=\"-117.2\" font-family=\"Times,serif\" font-size=\"14.00\">π */2;</text>\n",
       "<text text-anchor=\"middle\" x=\"198.12\" y=\"-100.7\" font-family=\"Times,serif\" font-size=\"14.00\">σ -;</text>\n",
       "</g>\n",
       "<!-- JOIN INNER\n",
       " &#160;&#160;&#160;&#160;&#160;&#160;&#160;&#160;&#160;&#160;&#160;&#160;&#160;&#160;&#160;&#160;&#160;&#160;&#160;left [col(&quot;fruits&quot;)];\n",
       " &#160;&#160;&#160;&#160;&#160;&#160;&#160;&#160;&#160;&#160;&#160;&#160;&#160;&#160;&#160;&#160;&#160;&#160;&#160;right: [col(&quot;fruits&quot;)] [(0, 2)]&#45;&#45;TABLE\n",
       "π */2;\n",
       "σ &#45;; [(200, 3)] -->\n",
       "<g id=\"edge5\" class=\"edge\">\n",
       "<title>JOIN INNER\n",
       "                    left [col(&quot;fruits&quot;)];\n",
       "                    right: [col(&quot;fruits&quot;)] [(0, 2)]--TABLE\n",
       "π */2;\n",
       "σ -; [(200, 3)]</title>\n",
       "<path fill=\"none\" stroke=\"black\" d=\"M155.06,-186.8C162.68,-175.55 171.46,-162.61 179.09,-151.34\"/>\n",
       "</g>\n",
       "<!-- TABLE\n",
       "π */5;\n",
       "σ &#45;; [(100, 4)] -->\n",
       "<g id=\"node5\" class=\"node\">\n",
       "<title>TABLE\n",
       "π */5;\n",
       "σ -; [(100, 4)]</title>\n",
       "<polygon fill=\"none\" stroke=\"black\" points=\"104.88,-57.5 45.38,-57.5 45.38,0 104.88,0 104.88,-57.5\"/>\n",
       "<text text-anchor=\"middle\" x=\"75.12\" y=\"-40.2\" font-family=\"Times,serif\" font-size=\"14.00\">TABLE</text>\n",
       "<text text-anchor=\"middle\" x=\"75.12\" y=\"-23.7\" font-family=\"Times,serif\" font-size=\"14.00\">π */5;</text>\n",
       "<text text-anchor=\"middle\" x=\"75.12\" y=\"-7.2\" font-family=\"Times,serif\" font-size=\"14.00\">σ -;</text>\n",
       "</g>\n",
       "<!-- SORT BY [col(&quot;fruits&quot;)] [(100, 3)]&#45;&#45;TABLE\n",
       "π */5;\n",
       "σ &#45;; [(100, 4)] -->\n",
       "<g id=\"edge4\" class=\"edge\">\n",
       "<title>SORT BY [col(&quot;fruits&quot;)] [(100, 3)]--TABLE\n",
       "π */5;\n",
       "σ -; [(100, 4)]</title>\n",
       "<path fill=\"none\" stroke=\"black\" d=\"M75.12,-104.04C75.12,-90.99 75.12,-72.79 75.12,-57.67\"/>\n",
       "</g>\n",
       "</g>\n",
       "</svg>"
      ],
      "text/plain": [
       "<IPython.core.display.SVG object>"
      ]
     },
     "metadata": {},
     "output_type": "display_data"
    }
   ],
   "source": [
    "q.show_graph(optimized=False)"
   ]
  },
  {
   "cell_type": "code",
   "execution_count": 20,
   "id": "31193894",
   "metadata": {},
   "outputs": [
    {
     "data": {
      "image/svg+xml": [
       "<svg xmlns=\"http://www.w3.org/2000/svg\" xmlns:xlink=\"http://www.w3.org/1999/xlink\" width=\"246pt\" height=\"325pt\" viewBox=\"0.00 0.00 245.88 324.50\">\n",
       "<g id=\"graph0\" class=\"graph\" transform=\"scale(1 1) rotate(0) translate(4 320.5)\">\n",
       "<title>polars_query</title>\n",
       "<polygon fill=\"white\" stroke=\"none\" points=\"-4,4 -4,-320.5 241.88,-320.5 241.88,4 -4,4\"/>\n",
       "<!-- FAST_PROJECT: [fruits, cars, B] [(0, 0)] -->\n",
       "<g id=\"node1\" class=\"node\">\n",
       "<title>FAST_PROJECT: [fruits, cars, B] [(0, 0)]</title>\n",
       "<polygon fill=\"none\" stroke=\"black\" points=\"237.88,-316.5 34.38,-316.5 34.38,-280.5 237.88,-280.5 237.88,-316.5\"/>\n",
       "<text text-anchor=\"middle\" x=\"136.12\" y=\"-293.45\" font-family=\"Times,serif\" font-size=\"14.00\">FAST_PROJECT: [fruits, cars, B]</text>\n",
       "</g>\n",
       "<!-- JOIN INNER\n",
       " &#160;&#160;&#160;&#160;&#160;&#160;&#160;&#160;&#160;&#160;&#160;&#160;&#160;&#160;&#160;&#160;&#160;&#160;&#160;left [col(&quot;fruits&quot;)];\n",
       " &#160;&#160;&#160;&#160;&#160;&#160;&#160;&#160;&#160;&#160;&#160;&#160;&#160;&#160;&#160;&#160;&#160;&#160;&#160;right: [col(&quot;fruits&quot;)] [(0, 1)] -->\n",
       "<g id=\"node2\" class=\"node\">\n",
       "<title>JOIN INNER\n",
       "                    left [col(&quot;fruits&quot;)];\n",
       "                    right: [col(&quot;fruits&quot;)] [(0, 1)]</title>\n",
       "<polygon fill=\"none\" stroke=\"black\" points=\"235.62,-244.5 36.62,-244.5 36.62,-187 235.62,-187 235.62,-244.5\"/>\n",
       "<text text-anchor=\"middle\" x=\"136.12\" y=\"-227.2\" font-family=\"Times,serif\" font-size=\"14.00\">JOIN INNER</text>\n",
       "<text text-anchor=\"middle\" x=\"136.12\" y=\"-210.7\" font-family=\"Times,serif\" font-size=\"14.00\">                    left [col(&quot;fruits&quot;)];</text>\n",
       "<text text-anchor=\"middle\" x=\"136.12\" y=\"-194.2\" font-family=\"Times,serif\" font-size=\"14.00\">                    right: [col(&quot;fruits&quot;)]</text>\n",
       "</g>\n",
       "<!-- FAST_PROJECT: [fruits, cars, B] [(0, 0)]&#45;&#45;JOIN INNER\n",
       " &#160;&#160;&#160;&#160;&#160;&#160;&#160;&#160;&#160;&#160;&#160;&#160;&#160;&#160;&#160;&#160;&#160;&#160;&#160;left [col(&quot;fruits&quot;)];\n",
       " &#160;&#160;&#160;&#160;&#160;&#160;&#160;&#160;&#160;&#160;&#160;&#160;&#160;&#160;&#160;&#160;&#160;&#160;&#160;right: [col(&quot;fruits&quot;)] [(0, 1)] -->\n",
       "<g id=\"edge1\" class=\"edge\">\n",
       "<title>FAST_PROJECT: [fruits, cars, B] [(0, 0)]--JOIN INNER\n",
       "                    left [col(&quot;fruits&quot;)];\n",
       "                    right: [col(&quot;fruits&quot;)] [(0, 1)]</title>\n",
       "<path fill=\"none\" stroke=\"black\" d=\"M136.12,-280.38C136.12,-270.1 136.12,-256.77 136.12,-244.97\"/>\n",
       "</g>\n",
       "<!-- SORT BY [col(&quot;fruits&quot;)] [(100, 2)] -->\n",
       "<g id=\"node3\" class=\"node\">\n",
       "<title>SORT BY [col(&quot;fruits&quot;)] [(100, 2)]</title>\n",
       "<polygon fill=\"none\" stroke=\"black\" points=\"150.25,-140.25 0,-140.25 0,-104.25 150.25,-104.25 150.25,-140.25\"/>\n",
       "<text text-anchor=\"middle\" x=\"75.12\" y=\"-117.2\" font-family=\"Times,serif\" font-size=\"14.00\">SORT BY [col(&quot;fruits&quot;)]</text>\n",
       "</g>\n",
       "<!-- JOIN INNER\n",
       " &#160;&#160;&#160;&#160;&#160;&#160;&#160;&#160;&#160;&#160;&#160;&#160;&#160;&#160;&#160;&#160;&#160;&#160;&#160;left [col(&quot;fruits&quot;)];\n",
       " &#160;&#160;&#160;&#160;&#160;&#160;&#160;&#160;&#160;&#160;&#160;&#160;&#160;&#160;&#160;&#160;&#160;&#160;&#160;right: [col(&quot;fruits&quot;)] [(0, 1)]&#45;&#45;SORT BY [col(&quot;fruits&quot;)] [(100, 2)] -->\n",
       "<g id=\"edge2\" class=\"edge\">\n",
       "<title>JOIN INNER\n",
       "                    left [col(&quot;fruits&quot;)];\n",
       "                    right: [col(&quot;fruits&quot;)] [(0, 1)]--SORT BY [col(&quot;fruits&quot;)] [(100, 2)]</title>\n",
       "<path fill=\"none\" stroke=\"black\" d=\"M117.49,-186.8C107.47,-171.77 95.43,-153.7 86.74,-140.68\"/>\n",
       "</g>\n",
       "<!-- TABLE\n",
       "π 2/2;\n",
       "σ &#45;; [(200, 2)] -->\n",
       "<g id=\"node5\" class=\"node\">\n",
       "<title>TABLE\n",
       "π 2/2;\n",
       "σ -; [(200, 2)]</title>\n",
       "<polygon fill=\"none\" stroke=\"black\" points=\"227.88,-151 168.38,-151 168.38,-93.5 227.88,-93.5 227.88,-151\"/>\n",
       "<text text-anchor=\"middle\" x=\"198.12\" y=\"-133.7\" font-family=\"Times,serif\" font-size=\"14.00\">TABLE</text>\n",
       "<text text-anchor=\"middle\" x=\"198.12\" y=\"-117.2\" font-family=\"Times,serif\" font-size=\"14.00\">π 2/2;</text>\n",
       "<text text-anchor=\"middle\" x=\"198.12\" y=\"-100.7\" font-family=\"Times,serif\" font-size=\"14.00\">σ -;</text>\n",
       "</g>\n",
       "<!-- JOIN INNER\n",
       " &#160;&#160;&#160;&#160;&#160;&#160;&#160;&#160;&#160;&#160;&#160;&#160;&#160;&#160;&#160;&#160;&#160;&#160;&#160;left [col(&quot;fruits&quot;)];\n",
       " &#160;&#160;&#160;&#160;&#160;&#160;&#160;&#160;&#160;&#160;&#160;&#160;&#160;&#160;&#160;&#160;&#160;&#160;&#160;right: [col(&quot;fruits&quot;)] [(0, 1)]&#45;&#45;TABLE\n",
       "π 2/2;\n",
       "σ &#45;; [(200, 2)] -->\n",
       "<g id=\"edge4\" class=\"edge\">\n",
       "<title>JOIN INNER\n",
       "                    left [col(&quot;fruits&quot;)];\n",
       "                    right: [col(&quot;fruits&quot;)] [(0, 1)]--TABLE\n",
       "π 2/2;\n",
       "σ -; [(200, 2)]</title>\n",
       "<path fill=\"none\" stroke=\"black\" d=\"M155.06,-186.8C162.68,-175.55 171.46,-162.61 179.09,-151.34\"/>\n",
       "</g>\n",
       "<!-- TABLE\n",
       "π 3/5;\n",
       "σ (col(&quot;B&quot;)) &gt; (3); [(100, 3)] -->\n",
       "<g id=\"node4\" class=\"node\">\n",
       "<title>TABLE\n",
       "π 3/5;\n",
       "σ (col(&quot;B&quot;)) &gt; (3); [(100, 3)]</title>\n",
       "<polygon fill=\"none\" stroke=\"black\" points=\"134.12,-57.5 16.12,-57.5 16.12,0 134.12,0 134.12,-57.5\"/>\n",
       "<text text-anchor=\"middle\" x=\"75.12\" y=\"-40.2\" font-family=\"Times,serif\" font-size=\"14.00\">TABLE</text>\n",
       "<text text-anchor=\"middle\" x=\"75.12\" y=\"-23.7\" font-family=\"Times,serif\" font-size=\"14.00\">π 3/5;</text>\n",
       "<text text-anchor=\"middle\" x=\"75.12\" y=\"-7.2\" font-family=\"Times,serif\" font-size=\"14.00\">σ (col(&quot;B&quot;)) &gt; (3);</text>\n",
       "</g>\n",
       "<!-- SORT BY [col(&quot;fruits&quot;)] [(100, 2)]&#45;&#45;TABLE\n",
       "π 3/5;\n",
       "σ (col(&quot;B&quot;)) &gt; (3); [(100, 3)] -->\n",
       "<g id=\"edge3\" class=\"edge\">\n",
       "<title>SORT BY [col(&quot;fruits&quot;)] [(100, 2)]--TABLE\n",
       "π 3/5;\n",
       "σ (col(&quot;B&quot;)) &gt; (3); [(100, 3)]</title>\n",
       "<path fill=\"none\" stroke=\"black\" d=\"M75.12,-104.04C75.12,-90.99 75.12,-72.79 75.12,-57.67\"/>\n",
       "</g>\n",
       "</g>\n",
       "</svg>"
      ],
      "text/plain": [
       "<IPython.core.display.SVG object>"
      ]
     },
     "metadata": {},
     "output_type": "display_data"
    }
   ],
   "source": [
    "q.show_graph(optimized=True)"
   ]
  },
  {
   "cell_type": "markdown",
   "id": "a48aee04",
   "metadata": {
    "slideshow": {
     "slide_type": "slide"
    }
   },
   "source": [
    "## Loading Data"
   ]
  },
  {
   "cell_type": "code",
   "execution_count": null,
   "id": "05ae97b5",
   "metadata": {},
   "outputs": [],
   "source": [
    "#add converation from parquest to csv because of gh limitaion\n",
    "temp = pl.read_parquet(file)\n",
    "temp.wri"
   ]
  },
  {
   "cell_type": "code",
   "execution_count": 29,
   "id": "36c2127e",
   "metadata": {},
   "outputs": [
    {
     "name": "stdout",
     "output_type": "stream",
     "text": [
      "CPU times: user 7.33 s, sys: 3.91 s, total: 11.2 s\n",
      "Wall time: 7.8 s\n"
     ]
    },
    {
     "data": {
      "text/html": [
       "<div>\n",
       "<style scoped>\n",
       "    .dataframe tbody tr th:only-of-type {\n",
       "        vertical-align: middle;\n",
       "    }\n",
       "\n",
       "    .dataframe tbody tr th {\n",
       "        vertical-align: top;\n",
       "    }\n",
       "\n",
       "    .dataframe thead th {\n",
       "        text-align: right;\n",
       "    }\n",
       "</style>\n",
       "<table border=\"1\" class=\"dataframe\">\n",
       "  <thead>\n",
       "    <tr style=\"text-align: right;\">\n",
       "      <th></th>\n",
       "      <th>event_time</th>\n",
       "      <th>event_type</th>\n",
       "      <th>product_id</th>\n",
       "      <th>category_id</th>\n",
       "      <th>category_code</th>\n",
       "      <th>brand</th>\n",
       "      <th>price</th>\n",
       "      <th>user_id</th>\n",
       "      <th>user_session</th>\n",
       "    </tr>\n",
       "  </thead>\n",
       "  <tbody>\n",
       "    <tr>\n",
       "      <th>0</th>\n",
       "      <td>2019-10-01 00:00:00 UTC</td>\n",
       "      <td>view</td>\n",
       "      <td>44600062</td>\n",
       "      <td>2103807459595387724</td>\n",
       "      <td>None</td>\n",
       "      <td>shiseido</td>\n",
       "      <td>35.79</td>\n",
       "      <td>541312140</td>\n",
       "      <td>72d76fde-8bb3-4e00-8c23-a032dfed738c</td>\n",
       "    </tr>\n",
       "    <tr>\n",
       "      <th>1</th>\n",
       "      <td>2019-10-01 00:00:00 UTC</td>\n",
       "      <td>view</td>\n",
       "      <td>3900821</td>\n",
       "      <td>2053013552326770905</td>\n",
       "      <td>appliances.environment.water_heater</td>\n",
       "      <td>aqua</td>\n",
       "      <td>33.20</td>\n",
       "      <td>554748717</td>\n",
       "      <td>9333dfbd-b87a-4708-9857-6336556b0fcc</td>\n",
       "    </tr>\n",
       "    <tr>\n",
       "      <th>2</th>\n",
       "      <td>2019-10-01 00:00:01 UTC</td>\n",
       "      <td>view</td>\n",
       "      <td>17200506</td>\n",
       "      <td>2053013559792632471</td>\n",
       "      <td>furniture.living_room.sofa</td>\n",
       "      <td>None</td>\n",
       "      <td>543.10</td>\n",
       "      <td>519107250</td>\n",
       "      <td>566511c2-e2e3-422b-b695-cf8e6e792ca8</td>\n",
       "    </tr>\n",
       "    <tr>\n",
       "      <th>3</th>\n",
       "      <td>2019-10-01 00:00:01 UTC</td>\n",
       "      <td>view</td>\n",
       "      <td>1307067</td>\n",
       "      <td>2053013558920217191</td>\n",
       "      <td>computers.notebook</td>\n",
       "      <td>lenovo</td>\n",
       "      <td>251.74</td>\n",
       "      <td>550050854</td>\n",
       "      <td>7c90fc70-0e80-4590-96f3-13c02c18c713</td>\n",
       "    </tr>\n",
       "    <tr>\n",
       "      <th>4</th>\n",
       "      <td>2019-10-01 00:00:04 UTC</td>\n",
       "      <td>view</td>\n",
       "      <td>1004237</td>\n",
       "      <td>2053013555631882655</td>\n",
       "      <td>electronics.smartphone</td>\n",
       "      <td>apple</td>\n",
       "      <td>1081.98</td>\n",
       "      <td>535871217</td>\n",
       "      <td>c6bd7419-2748-4c56-95b4-8cec9ff8b80d</td>\n",
       "    </tr>\n",
       "  </tbody>\n",
       "</table>\n",
       "</div>"
      ],
      "text/plain": [
       "                event_time event_type  product_id          category_id  \\\n",
       "0  2019-10-01 00:00:00 UTC       view    44600062  2103807459595387724   \n",
       "1  2019-10-01 00:00:00 UTC       view     3900821  2053013552326770905   \n",
       "2  2019-10-01 00:00:01 UTC       view    17200506  2053013559792632471   \n",
       "3  2019-10-01 00:00:01 UTC       view     1307067  2053013558920217191   \n",
       "4  2019-10-01 00:00:04 UTC       view     1004237  2053013555631882655   \n",
       "\n",
       "                         category_code     brand    price    user_id  \\\n",
       "0                                 None  shiseido    35.79  541312140   \n",
       "1  appliances.environment.water_heater      aqua    33.20  554748717   \n",
       "2           furniture.living_room.sofa      None   543.10  519107250   \n",
       "3                   computers.notebook    lenovo   251.74  550050854   \n",
       "4               electronics.smartphone     apple  1081.98  535871217   \n",
       "\n",
       "                           user_session  \n",
       "0  72d76fde-8bb3-4e00-8c23-a032dfed738c  \n",
       "1  9333dfbd-b87a-4708-9857-6336556b0fcc  \n",
       "2  566511c2-e2e3-422b-b695-cf8e6e792ca8  \n",
       "3  7c90fc70-0e80-4590-96f3-13c02c18c713  \n",
       "4  c6bd7419-2748-4c56-95b4-8cec9ff8b80d  "
      ]
     },
     "execution_count": 29,
     "metadata": {},
     "output_type": "execute_result"
    }
   ],
   "source": [
    "%%time\n",
    "file = 'data/mil.parquet'\n",
    "pd_df = pd.read_parquet(file) #\n",
    "pd_df.head()"
   ]
  },
  {
   "cell_type": "code",
   "execution_count": 30,
   "id": "4593798b",
   "metadata": {},
   "outputs": [
    {
     "name": "stdout",
     "output_type": "stream",
     "text": [
      "CPU times: user 6.69 s, sys: 9.23 s, total: 15.9 s\n",
      "Wall time: 6.86 s\n"
     ]
    },
    {
     "data": {
      "text/html": [
       "<div><style>\n",
       ".dataframe > thead > tr > th,\n",
       ".dataframe > tbody > tr > td {\n",
       "  text-align: right;\n",
       "}\n",
       "</style>\n",
       "<small>shape: (5, 9)</small><table border=\"1\" class=\"dataframe\"><thead><tr><th>event_time</th><th>event_type</th><th>product_id</th><th>category_id</th><th>category_code</th><th>brand</th><th>price</th><th>user_id</th><th>user_session</th></tr><tr><td>str</td><td>str</td><td>i64</td><td>i64</td><td>str</td><td>str</td><td>f64</td><td>i64</td><td>str</td></tr></thead><tbody><tr><td>&quot;2019-10-01 00:…</td><td>&quot;view&quot;</td><td>44600062</td><td>2103807459595387724</td><td>null</td><td>&quot;shiseido&quot;</td><td>35.79</td><td>541312140</td><td>&quot;72d76fde-8bb3-…</td></tr><tr><td>&quot;2019-10-01 00:…</td><td>&quot;view&quot;</td><td>3900821</td><td>2053013552326770905</td><td>&quot;appliances.env…</td><td>&quot;aqua&quot;</td><td>33.2</td><td>554748717</td><td>&quot;9333dfbd-b87a-…</td></tr><tr><td>&quot;2019-10-01 00:…</td><td>&quot;view&quot;</td><td>17200506</td><td>2053013559792632471</td><td>&quot;furniture.livi…</td><td>null</td><td>543.1</td><td>519107250</td><td>&quot;566511c2-e2e3-…</td></tr><tr><td>&quot;2019-10-01 00:…</td><td>&quot;view&quot;</td><td>1307067</td><td>2053013558920217191</td><td>&quot;computers.note…</td><td>&quot;lenovo&quot;</td><td>251.74</td><td>550050854</td><td>&quot;7c90fc70-0e80-…</td></tr><tr><td>&quot;2019-10-01 00:…</td><td>&quot;view&quot;</td><td>1004237</td><td>2053013555631882655</td><td>&quot;electronics.sm…</td><td>&quot;apple&quot;</td><td>1081.98</td><td>535871217</td><td>&quot;c6bd7419-2748-…</td></tr></tbody></table></div>"
      ],
      "text/plain": [
       "shape: (5, 9)\n",
       "┌──────────┬──────────┬──────────────┬───────────┬───┬──────────┬─────────┬───────────┬────────────┐\n",
       "│ event_ti ┆ event_ty ┆ product_id   ┆ category_ ┆ … ┆ brand    ┆ price   ┆ user_id   ┆ user_sessi │\n",
       "│ me       ┆ pe       ┆ ---          ┆ id        ┆   ┆ ---      ┆ ---     ┆ ---       ┆ on         │\n",
       "│ ---      ┆ ---      ┆ i64          ┆ ---       ┆   ┆ str      ┆ f64     ┆ i64       ┆ ---        │\n",
       "│ str      ┆ str      ┆              ┆ i64       ┆   ┆          ┆         ┆           ┆ str        │\n",
       "╞══════════╪══════════╪══════════════╪═══════════╪═══╪══════════╪═════════╪═══════════╪════════════╡\n",
       "│ 2019-10- ┆ view     ┆ 44600062     ┆ 210380745 ┆ … ┆ shiseido ┆ 35.79   ┆ 541312140 ┆ 72d76fde-8 │\n",
       "│ 01       ┆          ┆              ┆ 959538772 ┆   ┆          ┆         ┆           ┆ bb3-4e00-8 │\n",
       "│ 00:00:00 ┆          ┆              ┆ 4         ┆   ┆          ┆         ┆           ┆ c23-a032df │\n",
       "│ UTC      ┆          ┆              ┆           ┆   ┆          ┆         ┆           ┆ ed…        │\n",
       "│ 2019-10- ┆ view     ┆ 3900821      ┆ 205301355 ┆ … ┆ aqua     ┆ 33.2    ┆ 554748717 ┆ 9333dfbd-b │\n",
       "│ 01       ┆          ┆              ┆ 232677090 ┆   ┆          ┆         ┆           ┆ 87a-4708-9 │\n",
       "│ 00:00:00 ┆          ┆              ┆ 5         ┆   ┆          ┆         ┆           ┆ 857-633655 │\n",
       "│ UTC      ┆          ┆              ┆           ┆   ┆          ┆         ┆           ┆ 6b…        │\n",
       "│ 2019-10- ┆ view     ┆ 17200506     ┆ 205301355 ┆ … ┆ null     ┆ 543.1   ┆ 519107250 ┆ 566511c2-e │\n",
       "│ 01       ┆          ┆              ┆ 979263247 ┆   ┆          ┆         ┆           ┆ 2e3-422b-b │\n",
       "│ 00:00:01 ┆          ┆              ┆ 1         ┆   ┆          ┆         ┆           ┆ 695-cf8e6e │\n",
       "│ UTC      ┆          ┆              ┆           ┆   ┆          ┆         ┆           ┆ 79…        │\n",
       "│ 2019-10- ┆ view     ┆ 1307067      ┆ 205301355 ┆ … ┆ lenovo   ┆ 251.74  ┆ 550050854 ┆ 7c90fc70-0 │\n",
       "│ 01       ┆          ┆              ┆ 892021719 ┆   ┆          ┆         ┆           ┆ e80-4590-9 │\n",
       "│ 00:00:01 ┆          ┆              ┆ 1         ┆   ┆          ┆         ┆           ┆ 6f3-13c02c │\n",
       "│ UTC      ┆          ┆              ┆           ┆   ┆          ┆         ┆           ┆ 18…        │\n",
       "│ 2019-10- ┆ view     ┆ 1004237      ┆ 205301355 ┆ … ┆ apple    ┆ 1081.98 ┆ 535871217 ┆ c6bd7419-2 │\n",
       "│ 01       ┆          ┆              ┆ 563188265 ┆   ┆          ┆         ┆           ┆ 748-4c56-9 │\n",
       "│ 00:00:04 ┆          ┆              ┆ 5         ┆   ┆          ┆         ┆           ┆ 5b4-8cec9f │\n",
       "│ UTC      ┆          ┆              ┆           ┆   ┆          ┆         ┆           ┆ f8…        │\n",
       "└──────────┴──────────┴──────────────┴───────────┴───┴──────────┴─────────┴───────────┴────────────┘"
      ]
     },
     "execution_count": 30,
     "metadata": {},
     "output_type": "execute_result"
    }
   ],
   "source": [
    "%%time\n",
    "pl_df = pl.read_parquet(file) ## load data to memory\n",
    "pl_df.head()"
   ]
  },
  {
   "cell_type": "code",
   "execution_count": 31,
   "id": "17d59435",
   "metadata": {},
   "outputs": [
    {
     "name": "stdout",
     "output_type": "stream",
     "text": [
      "CPU times: user 22.1 ms, sys: 49.8 ms, total: 71.9 ms\n",
      "Wall time: 70.7 ms\n"
     ]
    },
    {
     "data": {
      "text/html": [
       "<div>\n",
       "<style scoped>\n",
       "    .dataframe tbody tr th:only-of-type {\n",
       "        vertical-align: middle;\n",
       "    }\n",
       "\n",
       "    .dataframe tbody tr th {\n",
       "        vertical-align: top;\n",
       "    }\n",
       "\n",
       "    .dataframe thead th {\n",
       "        text-align: right;\n",
       "    }\n",
       "</style>\n",
       "<table border=\"1\" class=\"dataframe\">\n",
       "  <thead>\n",
       "    <tr style=\"text-align: right;\">\n",
       "      <th></th>\n",
       "      <th>event_time</th>\n",
       "      <th>event_type</th>\n",
       "      <th>product_id</th>\n",
       "      <th>category_id</th>\n",
       "      <th>category_code</th>\n",
       "      <th>brand</th>\n",
       "      <th>price</th>\n",
       "      <th>user_id</th>\n",
       "      <th>user_session</th>\n",
       "    </tr>\n",
       "  </thead>\n",
       "  <tbody>\n",
       "    <tr>\n",
       "      <th>0</th>\n",
       "      <td>2019-10-01 00:00:00 UTC</td>\n",
       "      <td>view</td>\n",
       "      <td>44600062</td>\n",
       "      <td>2103807459595387724</td>\n",
       "      <td>None</td>\n",
       "      <td>shiseido</td>\n",
       "      <td>35.79</td>\n",
       "      <td>541312140</td>\n",
       "      <td>72d76fde-8bb3-4e00-8c23-a032dfed738c</td>\n",
       "    </tr>\n",
       "    <tr>\n",
       "      <th>1</th>\n",
       "      <td>2019-10-01 00:00:00 UTC</td>\n",
       "      <td>view</td>\n",
       "      <td>3900821</td>\n",
       "      <td>2053013552326770905</td>\n",
       "      <td>appliances.environment.water_heater</td>\n",
       "      <td>aqua</td>\n",
       "      <td>33.20</td>\n",
       "      <td>554748717</td>\n",
       "      <td>9333dfbd-b87a-4708-9857-6336556b0fcc</td>\n",
       "    </tr>\n",
       "    <tr>\n",
       "      <th>2</th>\n",
       "      <td>2019-10-01 00:00:01 UTC</td>\n",
       "      <td>view</td>\n",
       "      <td>17200506</td>\n",
       "      <td>2053013559792632471</td>\n",
       "      <td>furniture.living_room.sofa</td>\n",
       "      <td>None</td>\n",
       "      <td>543.10</td>\n",
       "      <td>519107250</td>\n",
       "      <td>566511c2-e2e3-422b-b695-cf8e6e792ca8</td>\n",
       "    </tr>\n",
       "    <tr>\n",
       "      <th>3</th>\n",
       "      <td>2019-10-01 00:00:01 UTC</td>\n",
       "      <td>view</td>\n",
       "      <td>1307067</td>\n",
       "      <td>2053013558920217191</td>\n",
       "      <td>computers.notebook</td>\n",
       "      <td>lenovo</td>\n",
       "      <td>251.74</td>\n",
       "      <td>550050854</td>\n",
       "      <td>7c90fc70-0e80-4590-96f3-13c02c18c713</td>\n",
       "    </tr>\n",
       "    <tr>\n",
       "      <th>4</th>\n",
       "      <td>2019-10-01 00:00:04 UTC</td>\n",
       "      <td>view</td>\n",
       "      <td>1004237</td>\n",
       "      <td>2053013555631882655</td>\n",
       "      <td>electronics.smartphone</td>\n",
       "      <td>apple</td>\n",
       "      <td>1081.98</td>\n",
       "      <td>535871217</td>\n",
       "      <td>c6bd7419-2748-4c56-95b4-8cec9ff8b80d</td>\n",
       "    </tr>\n",
       "  </tbody>\n",
       "</table>\n",
       "</div>"
      ],
      "text/plain": [
       "                event_time event_type  product_id          category_id  \\\n",
       "0  2019-10-01 00:00:00 UTC       view    44600062  2103807459595387724   \n",
       "1  2019-10-01 00:00:00 UTC       view     3900821  2053013552326770905   \n",
       "2  2019-10-01 00:00:01 UTC       view    17200506  2053013559792632471   \n",
       "3  2019-10-01 00:00:01 UTC       view     1307067  2053013558920217191   \n",
       "4  2019-10-01 00:00:04 UTC       view     1004237  2053013555631882655   \n",
       "\n",
       "                         category_code     brand    price    user_id  \\\n",
       "0                                 None  shiseido    35.79  541312140   \n",
       "1  appliances.environment.water_heater      aqua    33.20  554748717   \n",
       "2           furniture.living_room.sofa      None   543.10  519107250   \n",
       "3                   computers.notebook    lenovo   251.74  550050854   \n",
       "4               electronics.smartphone     apple  1081.98  535871217   \n",
       "\n",
       "                           user_session  \n",
       "0  72d76fde-8bb3-4e00-8c23-a032dfed738c  \n",
       "1  9333dfbd-b87a-4708-9857-6336556b0fcc  \n",
       "2  566511c2-e2e3-422b-b695-cf8e6e792ca8  \n",
       "3  7c90fc70-0e80-4590-96f3-13c02c18c713  \n",
       "4  c6bd7419-2748-4c56-95b4-8cec9ff8b80d  "
      ]
     },
     "execution_count": 31,
     "metadata": {},
     "output_type": "execute_result"
    }
   ],
   "source": [
    "%%time\n",
    "pl_df_lz = pl.scan_parquet(file)# ## lazy load data\n",
    "pl_df_lz.head().collect().to_pandas()"
   ]
  },
  {
   "cell_type": "markdown",
   "id": "9938953b",
   "metadata": {
    "slideshow": {
     "slide_type": "slide"
    }
   },
   "source": [
    "## SQL Context"
   ]
  },
  {
   "cell_type": "code",
   "execution_count": 24,
   "id": "633e12b8",
   "metadata": {},
   "outputs": [
    {
     "name": "stdout",
     "output_type": "stream",
     "text": [
      "CPU times: user 4.71 s, sys: 1.56 s, total: 6.27 s\n",
      "Wall time: 1.12 s\n"
     ]
    },
    {
     "data": {
      "text/html": [
       "<div><style>\n",
       ".dataframe > thead > tr > th,\n",
       ".dataframe > tbody > tr > td {\n",
       "  text-align: right;\n",
       "}\n",
       "</style>\n",
       "<small>shape: (1_070_614, 2)</small><table border=\"1\" class=\"dataframe\"><thead><tr><th>user_id</th><th>price</th></tr><tr><td>i64</td><td>f64</td></tr></thead><tbody><tr><td>545614761</td><td>741797.02</td></tr><tr><td>513185778</td><td>687284.19</td></tr><tr><td>556342445</td><td>485826.36</td></tr><tr><td>555206577</td><td>472869.82</td></tr><tr><td>513519502</td><td>456009.05</td></tr><tr><td>513199113</td><td>447228.06</td></tr><tr><td>513117637</td><td>426581.16</td></tr><tr><td>514523084</td><td>426156.61</td></tr><tr><td>513068111</td><td>424140.03</td></tr><tr><td>550902501</td><td>324280.0</td></tr><tr><td>512365995</td><td>318125.89</td></tr><tr><td>541663529</td><td>314428.38</td></tr><tr><td>&hellip;</td><td>&hellip;</td></tr><tr><td>556628215</td><td>0.0</td></tr><tr><td>550421799</td><td>0.0</td></tr><tr><td>526902599</td><td>0.0</td></tr><tr><td>531421207</td><td>0.0</td></tr><tr><td>547042463</td><td>0.0</td></tr><tr><td>541385647</td><td>0.0</td></tr><tr><td>528302175</td><td>0.0</td></tr><tr><td>516501807</td><td>0.0</td></tr><tr><td>537106983</td><td>0.0</td></tr><tr><td>536560295</td><td>0.0</td></tr><tr><td>515233023</td><td>0.0</td></tr><tr><td>527767271</td><td>0.0</td></tr></tbody></table></div>"
      ],
      "text/plain": [
       "shape: (1_070_614, 2)\n",
       "┌───────────┬───────────┐\n",
       "│ user_id   ┆ price     │\n",
       "│ ---       ┆ ---       │\n",
       "│ i64       ┆ f64       │\n",
       "╞═══════════╪═══════════╡\n",
       "│ 545614761 ┆ 741797.02 │\n",
       "│ 513185778 ┆ 687284.19 │\n",
       "│ 556342445 ┆ 485826.36 │\n",
       "│ 555206577 ┆ 472869.82 │\n",
       "│ …         ┆ …         │\n",
       "│ 537106983 ┆ 0.0       │\n",
       "│ 536560295 ┆ 0.0       │\n",
       "│ 515233023 ┆ 0.0       │\n",
       "│ 527767271 ┆ 0.0       │\n",
       "└───────────┴───────────┘"
      ]
     },
     "execution_count": 24,
     "metadata": {},
     "output_type": "execute_result"
    }
   ],
   "source": [
    "%%time\n",
    "file = 'data/mil.csv'\n",
    "pl_df_dz = pl.scan_csv(file)# ## lazy load data\n",
    "sql = pl.SQLContext()\n",
    "sql.register('t', pl_df_dz)\n",
    "sql.execute(\"SELECT user_id, SUM(price) AS price FROM t GROUP BY user_id ORDER BY price DESC\").collect()"
   ]
  },
  {
   "cell_type": "markdown",
   "id": "a30d7bb2",
   "metadata": {
    "slideshow": {
     "slide_type": "slide"
    }
   },
   "source": [
    "## Final words\n",
    "\n",
    "* Full lazy execution -> more optimizations\n",
    "* Feature complete.\n",
    "* Shoot!"
   ]
  }
 ],
 "metadata": {
  "celltoolbar": "Slideshow",
  "kernelspec": {
   "display_name": "Python 3 (ipykernel)",
   "language": "python",
   "name": "python3"
  },
  "language_info": {
   "codemirror_mode": {
    "name": "ipython",
    "version": 3
   },
   "file_extension": ".py",
   "mimetype": "text/x-python",
   "name": "python",
   "nbconvert_exporter": "python",
   "pygments_lexer": "ipython3",
   "version": "3.11.4"
  },
  "rise": {
   "autolaunch": true,
   "center": false,
   "controlsLayout": "edges",
   "enable_chalkboard": true,
   "footer": "",
   "hash": true,
   "header": "<img src=\"appflyer_logo.png\" style=\"padding:1em\"/>",
   "height": "90%",
   "scroll": true,
   "slideNumber": true,
   "start_slideshow_at": "selected",
   "theme": "white",
   "transition": "fade",
   "width": "100%"
  }
 },
 "nbformat": 4,
 "nbformat_minor": 5
}
